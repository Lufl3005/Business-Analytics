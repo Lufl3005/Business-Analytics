{
  "cells": [
    {
      "cell_type": "markdown",
      "metadata": {
        "id": "view-in-github",
        "colab_type": "text"
      },
      "source": [
        "<a href=\"https://colab.research.google.com/github/Lufl3005/Business-Analytics/blob/main/Reto1.ipynb\" target=\"_parent\"><img src=\"https://colab.research.google.com/assets/colab-badge.svg\" alt=\"Open In Colab\"/></a>"
      ]
    },
    {
      "cell_type": "markdown",
      "metadata": {
        "id": "NygDVi4xhcdV"
      },
      "source": [
        "#**Caso de Estudio - Modelo de Naive Bayes**\n",
        "\n",
        "Determinar si una persona vive en un área urbana o en un área rural con las siguientes variables\n",
        "\n",
        "*Edad\n",
        "\n",
        "*Educación de los Padres\n",
        "\n",
        "*Estatura\n",
        "\n",
        "*Peso\n",
        "\n",
        "*Ingresos\n",
        "\n",
        "*Escala de Autoestima\n",
        "\n",
        "*Tamaño de la Familia\n",
        "\n",
        "\n",
        "\n",
        "\n",
        "\n"
      ]
    },
    {
      "cell_type": "code",
      "execution_count": null,
      "metadata": {
        "id": "9kG8B8T7hSDa"
      },
      "outputs": [],
      "source": [
        "import pandas as pd\n",
        "import numpy as np\n",
        "from sklearn.naive_bayes import GaussianNB\n",
        "from sklearn.metrics import confusion_matrix"
      ]
    },
    {
      "cell_type": "code",
      "execution_count": null,
      "metadata": {
        "id": "kE3rZsVdfIy6"
      },
      "outputs": [],
      "source": [
        "nxl=\"/content/drive/MyDrive/Universidad :)/Semestre 3/Analítica de Negocios/1. BD1_Longitudinal Survey.xlsx\"\n",
        "XDB=pd.read_excel(nxl,sheet_name=0)\n",
        "XDB=XDB.dropna()\n",
        "\n",
        "XDB=XDB[[\"Age\", \"Mother_Edu\",\"Father_Edu\",\"Height\",\"Weight\",\"Income\",\"Self_Esteem\",\"FamilySize\", \"Urban\"]]\n",
        "\n",
        "XD=np.array(XDB[[\"Age\", \"Mother_Edu\",\"Father_Edu\",\"Height\",\"Weight\",\"Income\",\"Self_Esteem\",\"FamilySize\"]])\n",
        "\n",
        "yd=np.array(XDB[[\"Urban\"]])"
      ]
    },
    {
      "cell_type": "code",
      "execution_count": null,
      "metadata": {
        "colab": {
          "base_uri": "https://localhost:8080/"
        },
        "id": "S2f85dT1vkGY",
        "outputId": "b22b956a-1b59-449a-e9f3-7c917961c584"
      },
      "outputs": [
        {
          "output_type": "stream",
          "name": "stdout",
          "text": [
            "La media por variable de las categorías: \n",
            "  [[1.83810742e+01 1.07612958e+01 1.03324808e+01 6.72148338e+01\n",
            "  1.48857630e+02 3.03672506e+04 2.20272805e+01 4.74168798e+00]\n",
            " [1.83569845e+01 1.11769401e+01 1.12565410e+01 6.69031042e+01\n",
            "  1.44760976e+02 3.34278929e+04 2.26004435e+01 4.68780488e+00]]\n",
            "Los límites inferiores por variable de las categorías: \n",
            " [[ 1.58996876e+01  7.58892579e+00  6.46311334e+00  6.31369799e+01\n",
            "   1.18746964e+02 -1.33465823e+03  1.78344685e+01  2.16621834e+00]\n",
            " [ 1.58811112e+01  7.79013864e+00  7.15097738e+00  6.26897933e+01\n",
            "   1.14669654e+02 -2.69533531e+03  1.84154526e+01  2.24996381e+00]]\n",
            "Los límites superiores por variable de las categorías: \n",
            " [[2.08624608e+01 1.39336659e+01 1.42018483e+01 7.12926877e+01\n",
            "  1.78968296e+02 6.20691595e+04 2.62200925e+01 7.31715762e+00]\n",
            " [2.08328577e+01 1.45637416e+01 1.53621047e+01 7.11164151e+01\n",
            "  1.74852297e+02 6.95511211e+04 2.67854344e+01 7.12564594e+00]]\n",
            "La matriz de confusión es: \n",
            " [[   2 1171]\n",
            " [   4 4506]]\n"
          ]
        },
        {
          "output_type": "stream",
          "name": "stderr",
          "text": [
            "/usr/local/lib/python3.10/dist-packages/sklearn/utils/validation.py:1183: DataConversionWarning: A column-vector y was passed when a 1d array was expected. Please change the shape of y to (n_samples, ), for example using ravel().\n",
            "  y = column_or_1d(y, warn=True)\n"
          ]
        }
      ],
      "source": [
        "mnb=GaussianNB()\n",
        "mnb.fit(XD,yd)\n",
        "ydp=mnb.predict(XD)\n",
        "\n",
        "u=mnb.theta_\n",
        "sigma=np.sqrt(mnb.var_)\n",
        "\n",
        "LI=u-sigma\n",
        "LS=u+sigma\n",
        "\n",
        "print(\"La media por variable de las categorías: \\n \", u)\n",
        "print(\"Los límites inferiores por variable de las categorías: \\n\", LI)\n",
        "print(\"Los límites superiores por variable de las categorías: \\n\", LS)\n",
        "\n",
        "cm=confusion_matrix(yd,ydp)\n",
        "print(\"La matriz de confusión es: \\n\", cm)"
      ]
    },
    {
      "cell_type": "code",
      "execution_count": null,
      "metadata": {
        "colab": {
          "base_uri": "https://localhost:8080/"
        },
        "id": "n8Q2F894y9BJ",
        "outputId": "220f2de0-c8ad-415e-d13a-1faf479fb879"
      },
      "outputs": [
        {
          "output_type": "stream",
          "name": "stdout",
          "text": [
            "La exactitud del modelo es:  0.9122807017543859\n",
            "La tasa de error del modelo es:  0.08771929824561403\n",
            "La sensibilidad del modelo es:  0.9714285714285714\n",
            "La especificidad del modelo es:  0.2222222222222222\n",
            "La precision del modelo es:  0.9357798165137615\n",
            "El valor predictivo negativo del modelo es:  0.4\n"
          ]
        }
      ],
      "source": [
        "VN=cm[0,0]\n",
        "FP=cm[0,1]\n",
        "FN=cm[1,0]\n",
        "VP=cm[1,1]\n",
        "\n",
        "exactitud=(VP+VN)/len(XD)\n",
        "print(\"La exactitud del modelo es: \", exactitud)\n",
        "\n",
        "tasa_error=(FP+FN)/len(XD)\n",
        "print(\"La tasa de error del modelo es: \", tasa_error)\n",
        "\n",
        "sensibilidad=VP/(VP+FN)\n",
        "print(\"La sensibilidad del modelo es: \", sensibilidad)\n",
        "\n",
        "especificidad=VN/(VN+FP)\n",
        "print(\"La especificidad del modelo es: \", especificidad)\n",
        "\n",
        "precision=VP/(VP+FP)\n",
        "print(\"La precision del modelo es: \", precision)\n",
        "\n",
        "valor_predictivo_negativo=VN/(VN+FN)\n",
        "print(\"El valor predictivo negativo del modelo es: \", valor_predictivo_negativo)"
      ]
    },
    {
      "cell_type": "code",
      "execution_count": null,
      "metadata": {
        "colab": {
          "base_uri": "https://localhost:8080/"
        },
        "id": "zfzaGRphzc6S",
        "outputId": "dc71b546-85a2-4b03-845a-e752166c3e26"
      },
      "outputs": [
        {
          "output_type": "stream",
          "name": "stdout",
          "text": [
            "[1.]\n"
          ]
        }
      ],
      "source": [
        "Xun=np.array([[34,9,6,65,135,50000,30,3]])\n",
        "ydun=mnb.predict(Xun)\n",
        "print(ydun)"
      ]
    },
    {
      "cell_type": "markdown",
      "source": [
        "**Análisis de Resultados:**\n",
        "\n",
        "\n",
        "\n"
      ],
      "metadata": {
        "id": "euSAZR2q9J8J"
      }
    }
  ],
  "metadata": {
    "colab": {
      "provenance": [],
      "mount_file_id": "1LChxYp3vj-VYNy6xAWGX-2PBDhT9Eo7v",
      "authorship_tag": "ABX9TyPnOoUIiXasHsy6++eHgTxP",
      "include_colab_link": true
    },
    "kernelspec": {
      "display_name": "Python 3",
      "name": "python3"
    },
    "language_info": {
      "name": "python"
    }
  },
  "nbformat": 4,
  "nbformat_minor": 0
}